{
 "cells": [
  {
   "cell_type": "markdown",
   "metadata": {},
   "source": [
    "# Fundamental analysis"
   ]
  },
  {
   "cell_type": "code",
   "execution_count": null,
   "metadata": {},
   "outputs": [],
   "source": [
    "# Import basic libraries for manipulating data.\n",
    "\n",
    "# Please refer to xarray.pydata.org for xarray documentation.\n",
    "\n",
    "# xarray works optimally with N-dimensional datasets in Python\n",
    "# and is well suited for financial datasets with labels \"time\",\n",
    "# \"field\" and \"asset\". xarray data structures can also be easily\n",
    "# converted to pandas dataframes.\n",
    "\n",
    "import xarray as xr\n",
    "\n",
    "import numpy as np\n",
    "import pandas as pd\n",
    "\n",
    "# Import quantnet libraries.\n",
    "\n",
    "import qnt.data as qndata          # data loading and manipulation\n",
    "import qnt.stepper as qnstepper    # strategy definition\n",
    "import qnt.stats as qnstats        # key statistics\n",
    "import qnt.graph as qngraph        # graphical tools\n",
    "import qnt.forward_looking as qnfl # forward looking checking\n",
    "import qnt.ta as qnta              # TA functions\n",
    "\n",
    "# display function for fancy displaying:\n",
    "from IPython.display import display\n",
    "import json\n",
    "import time\n",
    "\n",
    "import datetime as dt"
   ]
  },
  {
   "cell_type": "code",
   "execution_count": null,
   "metadata": {},
   "outputs": [],
   "source": [
    "# Load all available asset names since given date.\n",
    "\n",
    "assets = qndata.load_assets(tail=dt.timedelta(days=5*365))\n",
    "\n",
    "assets_names = [i[\"id\"] for i in assets]\n",
    "\n",
    "# Load all available data since given date.\n",
    "\n",
    "# It is possible to set a max_date in the call in order to\n",
    "# develop the system on a limited in-sample period and later\n",
    "# test the system on unseen data after max_date.\n",
    "\n",
    "# A submission will be accepted only if no max_date is set,\n",
    "# as submissions will be evaluated on live data on a daily basis.\n",
    "\n",
    "data = qndata.load_data(tail=dt.timedelta(days=5*365),\n",
    "                        dims=(\"time\", \"field\", \"asset\"),\n",
    "                        assets=assets_names,\n",
    "                        forward_order=True)"
   ]
  },
  {
   "cell_type": "code",
   "execution_count": null,
   "metadata": {},
   "outputs": [],
   "source": [
    "# A buy-and-hold strategy on liquid assets allocates\n",
    "# constant fractions of capital to all liquid assets.\n",
    "# Here xarray data structures are converted to pandas\n",
    "# dataframes for simplicity in order to describe the\n",
    "# development process.\n",
    "\n",
    "# xarray.DataArray are converted to pandas dataframes:\n",
    "is_liquid = data.loc[:,\"is_liquid\",:]\n",
    "\n",
    "# set and normalize weights:\n",
    "weights = is_liquid / is_liquid.sum('asset').fillna(0.0)\n",
    "\n",
    "# display statistics for B'n'H strategy\n",
    "    \n",
    "stat = qnstats.calc_stat(data, weights, slippage_factor=0.05)\n",
    "\n",
    "display(stat.to_pandas().tail())"
   ]
  },
  {
   "cell_type": "markdown",
   "metadata": {},
   "source": [
    "## Fundamental data"
   ]
  },
  {
   "cell_type": "markdown",
   "metadata": {},
   "source": [
    "We will use some fundamental indicators to improve this strategy."
   ]
  },
  {
   "cell_type": "markdown",
   "metadata": {},
   "source": [
    "At first, let's retrieve the data from the fundamental database. "
   ]
  },
  {
   "cell_type": "markdown",
   "metadata": {},
   "source": [
    "You can also discover available attributes here: http://xbrlview.fasb.org/yeti/resources/yeti-gwt/Yeti.jsp (us-gaap taxonomy)"
   ]
  },
  {
   "cell_type": "markdown",
   "metadata": {},
   "source": [
    "You cal aso read the Introduction to financial statements: https://www.sec.gov/oiea/reportspubs/investor-publications/beginners-guide-to-financial-statements.html"
   ]
  },
  {
   "cell_type": "code",
   "execution_count": null,
   "metadata": {},
   "outputs": [],
   "source": [
    "# we will use this function to load parsed XBRL fillings\n",
    "help(qndata.load_secgov_forms)"
   ]
  },
  {
   "cell_type": "code",
   "execution_count": null,
   "metadata": {
    "scrolled": true
   },
   "outputs": [],
   "source": [
    "# build dict cik -> asset\n",
    "ciks = [(a['cik'], a) for a in assets if a['cik'] is not None]\n",
    "ciks = dict(ciks)\n",
    "\n",
    "# define result array\n",
    "fundamental = xr.concat(\n",
    "    [data.sel(field='close')] * 4, \n",
    "    pd.Index(['assets', 'liabilities', 'shares', 'eps'], name='field')\n",
    ")\n",
    "fundamental[:] = np.nan\n",
    "\n",
    "\n",
    "def extract_last_fact(facts, name):\n",
    "    res = tuple(f for f in facts if f['name'] == name)\n",
    "    if len(res) > 0:\n",
    "        res = max(res, key = lambda f: f['period']['value'])\n",
    "        res = res['value']\n",
    "    else:    \n",
    "        res = None \n",
    "    return res\n",
    "\n",
    "\n",
    "print_first_record = True\n",
    "progress = 0\n",
    "st = time.time()\n",
    "\n",
    "for form in qndata.load_secgov_forms(\n",
    "    ciks=list(ciks.keys()), # load only liquid ciks\n",
    "    types=['10-Q'], # only quarter reports \n",
    "    facts=[\n",
    "        'us-gaap:EarningsPerShareDiluted',\n",
    "        'us-gaap:Liabilities', \n",
    "        'us-gaap:Assets',\n",
    "        'us-gaap:CommonStockSharesOutstanding'\n",
    "    ],\n",
    "    skip_segment = True,\n",
    "    tail=dt.timedelta(days=5*365)\n",
    "):\n",
    "    facts = form['facts']\n",
    "    \n",
    "    # print first report to analyze the structure\n",
    "    if len(facts) > 0 and print_first_record:\n",
    "        print(\"The report example:\")\n",
    "        display(form)\n",
    "        print_first_record = False\n",
    "        \n",
    "    # display progress\n",
    "    progress += 1\n",
    "    if progress % 500 == 0:\n",
    "        print(\"Progress:\", progress, form['date'], time.time() - st)\n",
    "    \n",
    "    # process report\n",
    "    asset_id = ciks[form['cik']]['id']\n",
    "    if asset_id not in data.asset:\n",
    "        continue\n",
    "    \n",
    "    date = form['date']\n",
    "    date = fundamental.time.loc[date:]\n",
    "    if len(date) < 1:\n",
    "        print(\"wrong date\", form['date'])\n",
    "        continue\n",
    "    date = date[0].values\n",
    "    \n",
    "    fundamental.loc[{'asset':asset_id, 'time':date, 'field':'shares'}] \\\n",
    "            = extract_last_fact(facts, 'us-gaap:CommonStockSharesOutstanding')\n",
    "    \n",
    "    fundamental.loc[{'asset':asset_id, 'time':date, 'field':'eps'}] \\\n",
    "            = extract_last_fact(facts, 'us-gaap:EarningsPerShareDiluted')\n",
    "    \n",
    "    fundamental.loc[{'asset':asset_id, 'time':date, 'field':'liabilities'}] \\\n",
    "            = extract_last_fact(facts, 'us-gaap:Liabilities')\n",
    "    \n",
    "    fundamental.loc[{'asset':asset_id, 'time':date, 'field':'assets'}] \\\n",
    "            = extract_last_fact(facts, 'us-gaap:Assets')\n",
    "    \n",
    "print('Loaded')"
   ]
  },
  {
   "cell_type": "code",
   "execution_count": null,
   "metadata": {},
   "outputs": [],
   "source": [
    "# now we will prepare some ratios\n",
    "ratios = xr.concat(\n",
    "    [data.sel(field='close')] * 4, \n",
    "    pd.Index(['price/earnings', 'price/equity', 'liabilites/equity', 'market_cap'], name='field')\n",
    ")\n",
    "\n",
    "eps_y = qnta.sma(fundamental.sel(field='eps'), 4) * 4\n",
    "ratios.loc[{'field':'price/earnings'}] = data.sel(field='close') / eps_y#.ffill('time')\n",
    "\n",
    "equity = fundamental.sel(field='assets') - fundamental.sel(field='liabilities')\n",
    "equity_per_share = equity/fundamental.sel(field='shares')\n",
    "\n",
    "ratios.loc[{'field':'price/equity'}] = data.sel(field='close') / equity_per_share#.ffill('time')\n",
    "ratios.loc[{'field':'liabilites/equity'}] = fundamental.sel(field='liabilities') / equity#.ffill('time')\n",
    "ratios.loc[{'field':'market_cap'}] = data.sel(field='close') * fundamental.sel(field='shares')#.ffill('time')\n",
    "\n",
    "ratios = ratios.ffill('time')"
   ]
  },
  {
   "cell_type": "code",
   "execution_count": null,
   "metadata": {},
   "outputs": [],
   "source": [
    "# we will use these ratios to build the output\n",
    "output = data.sel(field=\"is_liquid\")\n",
    "\n",
    "output = output.where(ratios.sel(field='price/earnings') > 4)\n",
    "output = output.where(ratios.sel(field='price/earnings') < 25)\n",
    "\n",
    "output = output.where(ratios.sel(field='price/equity') > 0.7)\n",
    "output = output.where(ratios.sel(field='price/equity') < 1.3)\n",
    "\n",
    "output = output.where(ratios.sel(field='liabilites/equity') > 2)\n",
    "output = output.where(ratios.sel(field='liabilites/equity') < 8)\n",
    "\n",
    "output = output.where(ratios.sel(field='market_cap').rank('asset') > 50)\n",
    "\n",
    "output = output.fillna(0)\n",
    "output /= output.sum('asset')\n",
    "output = xr.where(output > 0.1, 0.1, output)\n",
    "\n",
    "# display stats\n",
    "stat = qnstats.calc_stat(data, output, slippage_factor=0.05)\n",
    "\n",
    "display(stat.to_pandas().tail())\n",
    "\n",
    "# print(output.isel(time=-1).dropna('asset').asset.values)"
   ]
  },
  {
   "cell_type": "markdown",
   "metadata": {},
   "source": [
    "# Statistics"
   ]
  },
  {
   "cell_type": "code",
   "execution_count": null,
   "metadata": {},
   "outputs": [],
   "source": [
    "def print_stat(stat):\n",
    "    \"\"\"Prints selected statistical key indicators:\n",
    "       - the global Sharpe ratio of the strategy;\n",
    "       - the global mean profit;\n",
    "       - the global volatility;\n",
    "       - the maximum drawdown.\n",
    "\n",
    "       Note that Sharpe ratio, mean profit and volatility\n",
    "       apply to  max simulation period, and not to the\n",
    "       rolling basis of 3 years.\n",
    "    \"\"\"\n",
    "\n",
    "    days = len(stat.coords[\"time\"])\n",
    "    \n",
    "    returns = stat.loc[:, \"relative_return\"]\n",
    "\n",
    "    equity = stat.loc[:, \"equity\"]\n",
    "    \n",
    "    sharpe_ratio = qnstats.calc_sharpe_ratio_annualized(\n",
    "        returns,\n",
    "        max_periods=days,\n",
    "        min_periods=days).to_pandas().values[-1]\n",
    "\n",
    "    profit = (qnstats.calc_mean_return_annualized(\n",
    "        returns,\n",
    "        max_periods=days,\n",
    "        min_periods=days).to_pandas().values[-1])*100.0\n",
    "\n",
    "    volatility = (qnstats.calc_volatility_annualized(\n",
    "        returns,\n",
    "        max_periods=days,\n",
    "        min_periods=days).to_pandas().values[-1])*100.0\n",
    "\n",
    "    max_ddown = (qnstats.calc_max_drawdown(\n",
    "        qnstats.calc_underwater(equity)).to_pandas().values[-1])*100.0\n",
    "\n",
    "    print(\"Sharpe Ratio         : \", \"{0:.3f}\".format(sharpe_ratio))\n",
    "    print(\"Mean Return [%]      : \", \"{0:.3f}\".format(profit))\n",
    "    print(\"Volatility [%]       : \", \"{0:.3f}\".format(volatility))\n",
    "    print(\"Maximum Drawdown [%] : \", \"{0:.3f}\".format(-max_ddown))\n",
    "\n",
    "print_stat(stat)"
   ]
  },
  {
   "cell_type": "code",
   "execution_count": null,
   "metadata": {},
   "outputs": [],
   "source": [
    "# show plot with profit and losses:\n",
    "performance = stat.to_pandas()[\"equity\"].iloc[(252*3):]\n",
    "qngraph.make_plot_filled(performance.index, performance, name=\"PnL (Equity)\", type=\"log\")"
   ]
  },
  {
   "cell_type": "code",
   "execution_count": null,
   "metadata": {},
   "outputs": [],
   "source": [
    "# show underwater chart:\n",
    "UWchart = stat.to_pandas()[\"underwater\"].iloc[(252*3):]\n",
    "qngraph.make_plot_filled(UWchart.index, UWchart, color=\"darkred\", name=\"Underwater Chart\", range_max=0)"
   ]
  },
  {
   "cell_type": "code",
   "execution_count": null,
   "metadata": {},
   "outputs": [],
   "source": [
    "# show rolling Sharpe ratio on a 3-year basis:\n",
    "SRchart = stat.to_pandas()[\"sharpe_ratio\"].iloc[(252*3):]\n",
    "qngraph.make_plot_filled(SRchart.index, SRchart, color=\"#F442C5\", name=\"Rolling SR\")"
   ]
  },
  {
   "cell_type": "code",
   "execution_count": null,
   "metadata": {
    "scrolled": true
   },
   "outputs": [],
   "source": [
    "# show bias chart:\n",
    "biaschart = stat.to_pandas()[\"bias\"].iloc[(252*3):]\n",
    "qngraph.make_plot_filled(biaschart.index, biaschart, color=\"#5A6351\", name=\"Bias Chart\")"
   ]
  },
  {
   "cell_type": "markdown",
   "metadata": {},
   "source": [
    "# Write output"
   ]
  },
  {
   "cell_type": "code",
   "execution_count": null,
   "metadata": {},
   "outputs": [],
   "source": [
    "# Finally, we write the last mandatory step for submission,\n",
    "# namely writing output to file:\n",
    "\n",
    "qndata.write_output(output)"
   ]
  }
 ],
 "metadata": {
  "kernelspec": {
   "display_name": "Python 3",
   "language": "python",
   "name": "python3"
  },
  "language_info": {
   "codemirror_mode": {
    "name": "ipython",
    "version": 3
   },
   "file_extension": ".py",
   "mimetype": "text/x-python",
   "name": "python",
   "nbconvert_exporter": "python",
   "pygments_lexer": "ipython3",
   "version": "3.7.6"
  }
 },
 "nbformat": 4,
 "nbformat_minor": 2
}
